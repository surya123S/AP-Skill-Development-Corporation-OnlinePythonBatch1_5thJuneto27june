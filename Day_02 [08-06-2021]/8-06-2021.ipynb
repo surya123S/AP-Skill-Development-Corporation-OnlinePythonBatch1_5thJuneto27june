{
 "cells": [
  {
   "cell_type": "markdown",
   "metadata": {},
   "source": [
    "## Day objectives\n",
    "\n",
    "- Installations of softaware\n",
    "- Jupyter notebook\n",
    "- Markdown basics\n",
    "- Basic of Python\n"
   ]
  },
  {
   "cell_type": "markdown",
   "metadata": {},
   "source": [
    "## Markdown Basics\n",
    "\n",
    "- Literate programming \n",
    "    - Prepare documentation and doing coding meanwhile\n",
    "- Headings\n",
    "- Font styles\n",
    "- Ordering and Unordering\n",
    "    "
   ]
  },
  {
   "cell_type": "markdown",
   "metadata": {},
   "source": [
    "# Python  \n",
    "## Python\n",
    "### Python\n",
    "#### python\n",
    "##### python\n",
    "###### python\n"
   ]
  },
  {
   "cell_type": "markdown",
   "metadata": {},
   "source": [
    "### **Bold**\n",
    "\n",
    "*Italic*\n",
    "\n",
    "***Bold Italic***"
   ]
  },
  {
   "cell_type": "markdown",
   "metadata": {},
   "source": [
    "1. Class \n",
    "2. Students\n",
    "3. Attendance\n",
    "4. Documents"
   ]
  },
  {
   "cell_type": "markdown",
   "metadata": {},
   "source": [
    "- Normal Text\n",
    "    - Sublist1\n",
    "    - Sublist2\n",
    "        - Sub sub list1\n"
   ]
  },
  {
   "cell_type": "markdown",
   "metadata": {},
   "source": [
    "## Inserting a code in markdown\n",
    "\n",
    "\n",
    "\n"
   ]
  },
  {
   "cell_type": "markdown",
   "metadata": {},
   "source": [
    "~~~\n",
    "\n",
    "#include<stdio.h>\n",
    "int main()\n",
    "{\n",
    "   printf('Apssdc');\n",
    "   return 0;\n",
    "}\n",
    "\n",
    "~~~"
   ]
  },
  {
   "cell_type": "markdown",
   "metadata": {},
   "source": [
    "### Creating tables\n",
    "\n",
    "|Movie_Name|Hero_Name|Heroine_Name|\n",
    "|----------|---------|------------|\n",
    "|Bahubhali|Prabhas|Anushka|\n",
    "|Stalin|Megastar|Thrisha|\n"
   ]
  },
  {
   "cell_type": "markdown",
   "metadata": {},
   "source": [
    "<img src=\"jupyter.png\" style=\"float:left\">\n"
   ]
  },
  {
   "cell_type": "markdown",
   "metadata": {},
   "source": [
    "### Jupyter Notebook \n",
    "\n",
    "- esc+m --> from code to markdown\n",
    "- esc+y --> form markdown to code\n",
    "- shift+enter --> to check the output\n",
    "- a --> insert cell above\n",
    "- b --> insert cell below\n",
    "- dd --> delete cell\n",
    "- shift+l --> which provides/removes numbering to cell"
   ]
  },
  {
   "cell_type": "markdown",
   "metadata": {},
   "source": [
    "#### Python Introduction\n",
    "\n",
    "- Python is a programming language, Interpreted language(Line-by-line)\n",
    "- It is the one ot the fastest growing language\n",
    "- It is having different libraries\n",
    "- easy to understand \n",
    "- Object oriented language\n",
    "\n",
    "#### Python Applications:\n",
    "- Machine learning, Software development, web developments, AI, Gamming\n",
    "\n",
    "#### Features\n",
    "- Free and Open source\n",
    "\n",
    "#### Python comments\n",
    "- Single line comment\n",
    "    - it is represented by Hash(#)\n",
    "- Multi line comment\n",
    "    - represented by inside triple quotes(\"\"\"code\"\"\")\n",
    "\n",
    "\n"
   ]
  },
  {
   "cell_type": "code",
   "execution_count": 16,
   "metadata": {},
   "outputs": [
    {
     "name": "stdout",
     "output_type": "stream",
     "text": [
      "APSSDC\n"
     ]
    }
   ],
   "source": [
    "# Interpreted\n",
    "## ctrl+? used comment n number of lines at a time\n",
    "\n",
    "print('APSSDC')\n",
    "# print('Nandini')\n",
    "# print('Surya')"
   ]
  },
  {
   "cell_type": "markdown",
   "metadata": {},
   "source": [
    "- Python Basics\n",
    "    - Vairables\n",
    "    - Keywords\n",
    "    - Operators\n",
    "    "
   ]
  },
  {
   "cell_type": "markdown",
   "metadata": {},
   "source": [
    "- Variable\n",
    "    - Which is used to store values in the memory\n",
    "    - Varaible names should not starts with numbers\n",
    "    - Varibles names should not starts with keywords\n",
    "    - Vaibles names shoild not starts with special symbols\n",
    "        - we can use _ symbol\n",
    "        \n",
    "- Single varaible assignment\n",
    "- Multi variable assignment\n",
    "    "
   ]
  },
  {
   "cell_type": "code",
   "execution_count": 23,
   "metadata": {},
   "outputs": [
    {
     "name": "stdout",
     "output_type": "stream",
     "text": [
      "10\n"
     ]
    }
   ],
   "source": [
    "n = 10  # single variable assignment\n",
    "print(n)"
   ]
  },
  {
   "cell_type": "code",
   "execution_count": 19,
   "metadata": {},
   "outputs": [
    {
     "data": {
      "text/plain": [
       "10"
      ]
     },
     "execution_count": 19,
     "metadata": {},
     "output_type": "execute_result"
    }
   ],
   "source": [
    "n1 = n2 = n3 = 10 ## Multi varaible assignment with single value\n",
    "n2"
   ]
  },
  {
   "cell_type": "code",
   "execution_count": 20,
   "metadata": {},
   "outputs": [
    {
     "data": {
      "text/plain": [
       "223"
      ]
     },
     "execution_count": 20,
     "metadata": {},
     "output_type": "execute_result"
    }
   ],
   "source": [
    "a,b,c = 123,223,566 ## Multi varaible assignment with different values\n",
    "b"
   ]
  },
  {
   "cell_type": "markdown",
   "metadata": {},
   "source": [
    "- Keywords\n",
    "    - Keywords can't used as a varaible name,function name\n",
    "    - Reserved words in python\n",
    "    - Case Sensitive"
   ]
  },
  {
   "cell_type": "code",
   "execution_count": 21,
   "metadata": {},
   "outputs": [
    {
     "name": "stdout",
     "output_type": "stream",
     "text": [
      "['False', 'None', 'True', 'and', 'as', 'assert', 'async', 'await', 'break', 'class', 'continue', 'def', 'del', 'elif', 'else', 'except', 'finally', 'for', 'from', 'global', 'if', 'import', 'in', 'is', 'lambda', 'nonlocal', 'not', 'or', 'pass', 'raise', 'return', 'try', 'while', 'with', 'yield']\n"
     ]
    }
   ],
   "source": [
    "import keyword\n",
    "print(keyword.kwlist)\n"
   ]
  },
  {
   "cell_type": "code",
   "execution_count": 31,
   "metadata": {},
   "outputs": [
    {
     "name": "stdout",
     "output_type": "stream",
     "text": [
      "35\n"
     ]
    }
   ],
   "source": [
    "import keyword\n",
    "print(len(keyword.kwlist))\n"
   ]
  },
  {
   "cell_type": "code",
   "execution_count": 25,
   "metadata": {},
   "outputs": [
    {
     "ename": "SyntaxError",
     "evalue": "cannot assign to True (<ipython-input-25-5e223a160298>, line 1)",
     "output_type": "error",
     "traceback": [
      "\u001b[1;36m  File \u001b[1;32m\"<ipython-input-25-5e223a160298>\"\u001b[1;36m, line \u001b[1;32m1\u001b[0m\n\u001b[1;33m    True = 4\u001b[0m\n\u001b[1;37m    ^\u001b[0m\n\u001b[1;31mSyntaxError\u001b[0m\u001b[1;31m:\u001b[0m cannot assign to True\n"
     ]
    }
   ],
   "source": [
    "True = 4\n",
    "False = \"Apple\"\n",
    "\n",
    "print(True)\n",
    "print(False)\n"
   ]
  },
  {
   "cell_type": "code",
   "execution_count": 32,
   "metadata": {},
   "outputs": [
    {
     "data": {
      "text/plain": [
       "5"
      ]
     },
     "execution_count": 32,
     "metadata": {},
     "output_type": "execute_result"
    }
   ],
   "source": [
    "n1 = 4\n",
    "n2 = 5\n",
    "n1\n",
    "n2"
   ]
  },
  {
   "cell_type": "code",
   "execution_count": 33,
   "metadata": {},
   "outputs": [
    {
     "name": "stdout",
     "output_type": "stream",
     "text": [
      "4\n",
      "5\n"
     ]
    }
   ],
   "source": [
    "n1 = 4\n",
    "n2 = 5\n",
    "print(n1)\n",
    "print(n2)"
   ]
  },
  {
   "cell_type": "code",
   "execution_count": 35,
   "metadata": {},
   "outputs": [
    {
     "name": "stdout",
     "output_type": "stream",
     "text": [
      "90\n"
     ]
    }
   ],
   "source": [
    "Fruit_m = \"mango\"\n",
    "cost_m = 40\n",
    "Fruit_a = \" apple\"\n",
    "cost_a = 50\n",
    "sum = cost_m + cost_a\n",
    "print(sum)\n"
   ]
  },
  {
   "cell_type": "code",
   "execution_count": null,
   "metadata": {},
   "outputs": [],
   "source": []
  }
 ],
 "metadata": {
  "kernelspec": {
   "display_name": "Python 3",
   "language": "python",
   "name": "python3"
  },
  "language_info": {
   "codemirror_mode": {
    "name": "ipython",
    "version": 3
   },
   "file_extension": ".py",
   "mimetype": "text/x-python",
   "name": "python",
   "nbconvert_exporter": "python",
   "pygments_lexer": "ipython3",
   "version": "3.8.3"
  }
 },
 "nbformat": 4,
 "nbformat_minor": 4
}
